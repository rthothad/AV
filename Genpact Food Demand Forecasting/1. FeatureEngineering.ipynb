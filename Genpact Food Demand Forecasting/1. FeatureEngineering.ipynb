{
 "cells": [
  {
   "cell_type": "code",
   "execution_count": 1,
   "metadata": {},
   "outputs": [],
   "source": [
    "import pandas as pd\n",
    "import numpy as np\n",
    "from sklearn.preprocessing import StandardScaler\n",
    "from sklearn.model_selection import KFold\n",
    "import warnings\n",
    "warnings.filterwarnings(\"ignore\")\n",
    "import featuretools as ft\n",
    "\n",
    "import gc"
   ]
  },
  {
   "cell_type": "code",
   "execution_count": 26,
   "metadata": {},
   "outputs": [],
   "source": [
    "train = pd.read_csv('../data/train_merged.csv')\n",
    "test = pd.read_csv('../data/test_merged.csv')"
   ]
  },
  {
   "cell_type": "code",
   "execution_count": 27,
   "metadata": {},
   "outputs": [
    {
     "data": {
      "text/plain": [
       "((456548, 15), (32573, 14))"
      ]
     },
     "execution_count": 27,
     "metadata": {},
     "output_type": "execute_result"
    }
   ],
   "source": [
    "train.shape, test.shape"
   ]
  },
  {
   "cell_type": "code",
   "execution_count": 28,
   "metadata": {},
   "outputs": [],
   "source": [
    "#drop the outlier\n",
    "train.drop(train[train.num_orders > 23000].index, inplace=True)\n",
    "\n",
    "train['discount'] = train.base_price - train.checkout_price\n",
    "test['discount'] = test.base_price - test.checkout_price"
   ]
  },
  {
   "cell_type": "code",
   "execution_count": 5,
   "metadata": {},
   "outputs": [],
   "source": [
    "train['emailer_for_promotion'] = train['emailer_for_promotion'].astype('str')\n",
    "train['homepage_featured'] = train['homepage_featured'].astype('str')\n",
    "train['category'] = train['category'].astype('str')\n",
    "train['cuisine'] = train['cuisine'].astype('str')\n",
    "train['city_code'] = train['city_code'].astype('str')\n",
    "train['region_code'] = train['region_code'].astype('str')\n",
    "train['center_type'] = train['center_type'].astype('str')\n",
    "train['op_area'] = train['op_area'].astype('str')\n",
    "\n",
    "test['emailer_for_promotion'] = test['emailer_for_promotion'].astype('str')\n",
    "test['homepage_featured'] = test['homepage_featured'].astype('str')\n",
    "test['category'] = test['category'].astype('str')\n",
    "test['cuisine'] = test['cuisine'].astype('str')\n",
    "test['city_code'] = test['city_code'].astype('str')\n",
    "test['region_code'] = test['region_code'].astype('str')\n",
    "test['center_type'] = test['center_type'].astype('str')\n",
    "test['op_area'] = test['op_area'].astype('str')\n",
    "\n",
    "train['interaction_1'] = (train['emailer_for_promotion'] + train['homepage_featured'])\n",
    "train['interaction_2'] = (train['emailer_for_promotion'] + train['category'])\n",
    "train['interaction_3'] = (train['emailer_for_promotion'] + train['cuisine'])\n",
    "train['interaction_4'] = (train['emailer_for_promotion'] + train['city_code'])\n",
    "train['interaction_5'] = (train['emailer_for_promotion'] + train['region_code'])\n",
    "train['interaction_6'] = (train['emailer_for_promotion'] + train['center_type'])\n",
    "train['interaction_7'] = (train['emailer_for_promotion'] + train['op_area'])\n",
    "\n",
    "train['interaction_8'] = (train['homepage_featured'] + train['category'])\n",
    "train['interaction_9'] = (train['homepage_featured'] + train['cuisine'])\n",
    "train['interaction_10'] = (train['homepage_featured'] + train['city_code'])\n",
    "train['interaction_11'] = (train['homepage_featured'] + train['region_code'])\n",
    "train['interaction_12'] = (train['homepage_featured'] + train['center_type'])\n",
    "train['interaction_13'] = (train['homepage_featured'] + train['op_area'])\n",
    "\n",
    "train['interaction_14'] = (train['category'] + train['cuisine'])\n",
    "train['interaction_15'] = (train['category'] + train['city_code'])\n",
    "train['interaction_16'] = (train['category'] + train['region_code'])\n",
    "train['interaction_17'] = (train['category'] + train['center_type'])\n",
    "train['interaction_18'] = (train['category'] + train['op_area'])\n",
    "\n",
    "train['interaction_19'] = (train['city_code'] + train['region_code'])\n",
    "train['interaction_20'] = (train['city_code'] + train['center_type'])\n",
    "train['interaction_21'] = (train['city_code'] + train['op_area'])\n",
    "\n",
    "train['interaction_22'] = (train['region_code'] + train['center_type'])\n",
    "train['interaction_23'] = (train['region_code'] + train['op_area'])\n",
    "\n",
    "train['interaction_24'] = (train['center_type'] + train['op_area'])\n",
    "\n",
    "\n",
    "test['interaction_1'] = (test['emailer_for_promotion'] + test['homepage_featured'])\n",
    "test['interaction_2'] = (test['emailer_for_promotion'] + test['category'])\n",
    "test['interaction_3'] = (test['emailer_for_promotion'] + test['cuisine'])\n",
    "test['interaction_4'] = (test['emailer_for_promotion'] + test['city_code'])\n",
    "test['interaction_5'] = (test['emailer_for_promotion'] + test['region_code'])\n",
    "test['interaction_6'] = (test['emailer_for_promotion'] + test['center_type'])\n",
    "test['interaction_7'] = (test['emailer_for_promotion'] + test['op_area'])\n",
    "\n",
    "test['interaction_8'] = (test['homepage_featured'] + test['category'])\n",
    "test['interaction_9'] = (test['homepage_featured'] + test['cuisine'])\n",
    "test['interaction_10'] = (test['homepage_featured'] + test['city_code'])\n",
    "test['interaction_11'] = (test['homepage_featured'] + test['region_code'])\n",
    "test['interaction_12'] = (test['homepage_featured'] + test['center_type'])\n",
    "test['interaction_13'] = (test['homepage_featured'] + test['op_area'])\n",
    "\n",
    "test['interaction_14'] = (test['category'] + test['cuisine'])\n",
    "test['interaction_15'] = (test['category'] + test['city_code'])\n",
    "test['interaction_16'] = (test['category'] + test['region_code'])\n",
    "test['interaction_17'] = (test['category'] + test['center_type'])\n",
    "test['interaction_18'] = (test['category'] + test['op_area'])\n",
    "\n",
    "test['interaction_19'] = (test['city_code'] + test['region_code'])\n",
    "test['interaction_20'] = (test['city_code'] + test['center_type'])\n",
    "test['interaction_21'] = (test['city_code'] + test['op_area'])\n",
    "\n",
    "test['interaction_22'] = (test['region_code'] + test['center_type'])\n",
    "test['interaction_23'] = (test['region_code'] + test['op_area'])\n",
    "\n",
    "test['interaction_24'] = (test['center_type'] + test['op_area'])\n",
    "\n",
    "train['emailer_for_promotion'] = train['emailer_for_promotion'].astype('int64')\n",
    "train['homepage_featured'] = train['homepage_featured'].astype('int64')\n",
    "train['category'] = train['category'].astype('category')\n",
    "train['cuisine'] = train['cuisine'].astype('category')\n",
    "train['city_code'] = train['city_code'].astype('int64')\n",
    "train['region_code'] = train['region_code'].astype('int64')\n",
    "train['center_type'] = train['center_type'].astype('category')\n",
    "train['op_area'] = train['op_area'].astype('float64')\n",
    "\n",
    "test['emailer_for_promotion'] = test['emailer_for_promotion'].astype('int64')\n",
    "test['homepage_featured'] = test['homepage_featured'].astype('int64')\n",
    "test['category'] = test['category'].astype('category')\n",
    "test['cuisine'] = test['cuisine'].astype('category')\n",
    "test['city_code'] = test['city_code'].astype('int64')\n",
    "test['region_code'] = test['region_code'].astype('int64')\n",
    "test['center_type'] = test['center_type'].astype('category')\n",
    "test['op_area'] = test['op_area'].astype('float64')\n"
   ]
  },
  {
   "cell_type": "code",
   "execution_count": 6,
   "metadata": {},
   "outputs": [],
   "source": [
    "for df in [train, test]:\n",
    "    for col in df.columns:\n",
    "        if 'interaction_' in col:\n",
    "            df[col] = df[col].astype('category')"
   ]
  },
  {
   "cell_type": "code",
   "execution_count": 29,
   "metadata": {},
   "outputs": [],
   "source": [
    "#separate the target column and merge train dataset with test dataset\n",
    "target = train[['id', 'num_orders']]\n",
    "train.drop(['num_orders'], axis=1, inplace=True)\n",
    "train['set']='train'\n",
    "test['set']='test'\n",
    "data = train.append(test, ignore_index=True)"
   ]
  },
  {
   "cell_type": "markdown",
   "metadata": {},
   "source": [
    "<h1>Feature Engineering using Featuretools</h1>\n",
    "<h2>Create an entity dataset</h2><br>\n",
    "An EntitySet is a structure that contains multiple dataframes and relationships between them. So, let’s create an EntitySet and add the dataframe combination to it."
   ]
  },
  {
   "cell_type": "code",
   "execution_count": 30,
   "metadata": {},
   "outputs": [
    {
     "data": {
      "text/plain": [
       "Entityset: fooddemand\n",
       "  Entities:\n",
       "    demand [Rows: 489120, Columns: 16]\n",
       "  Relationships:\n",
       "    No relationships"
      ]
     },
     "execution_count": 30,
     "metadata": {},
     "output_type": "execute_result"
    }
   ],
   "source": [
    "# create an entity set 'es'\n",
    "es = ft.EntitySet(id = 'fooddemand')\n",
    "\n",
    "# adding a dataframe \n",
    "es.entity_from_dataframe(entity_id = 'demand', dataframe = data, index = 'id')"
   ]
  },
  {
   "cell_type": "code",
   "execution_count": 31,
   "metadata": {},
   "outputs": [
    {
     "data": {
      "text/plain": [
       "Entityset: fooddemand\n",
       "  Entities:\n",
       "    demand [Rows: 489120, Columns: 10]\n",
       "    fullfilment_center [Rows: 77, Columns: 5]\n",
       "    meal_info [Rows: 51, Columns: 3]\n",
       "  Relationships:\n",
       "    demand.center_id -> fullfilment_center.center_id\n",
       "    demand.meal_id -> meal_info.meal_id"
      ]
     },
     "execution_count": 31,
     "metadata": {},
     "output_type": "execute_result"
    }
   ],
   "source": [
    "es.normalize_entity(base_entity_id='demand', new_entity_id='fullfilment_center', index = 'center_id', \n",
    "additional_variables = ['city_code', 'region_code', 'center_type', 'op_area'])\n",
    "\n",
    "es.normalize_entity(base_entity_id='demand', new_entity_id='meal_info', index = 'meal_id', \n",
    "additional_variables = ['category', 'cuisine'])"
   ]
  },
  {
   "cell_type": "code",
   "execution_count": 10,
   "metadata": {},
   "outputs": [
    {
     "name": "stdout",
     "output_type": "stream",
     "text": [
      "Entityset: fooddemand\n",
      "  Entities:\n",
      "    demand [Rows: 489120, Columns: 34]\n",
      "    fullfilment_center [Rows: 77, Columns: 5]\n",
      "    meal_info [Rows: 51, Columns: 3]\n",
      "  Relationships:\n",
      "    demand.center_id -> fullfilment_center.center_id\n",
      "    demand.meal_id -> meal_info.meal_id\n"
     ]
    }
   ],
   "source": [
    "print(es)"
   ]
  },
  {
   "cell_type": "code",
   "execution_count": 32,
   "metadata": {},
   "outputs": [
    {
     "name": "stdout",
     "output_type": "stream",
     "text": [
      "Built 69 features\n",
      "Elapsed: 00:35 | Remaining: 00:00 | Progress: 100%|██████████████████████████████████████████| Calculated: 10/10 chunks\n"
     ]
    }
   ],
   "source": [
    "# Specify the aggregation primitives\n",
    "feature_matrix, feature_names = ft.dfs(entityset = es, target_entity = 'demand',  \n",
    "                                                 agg_primitives = ['sum', 'count', 'min', 'max', 'mean', 'mode'], \n",
    "                                                 max_depth = 2, features_only = False, verbose = True)"
   ]
  },
  {
   "cell_type": "code",
   "execution_count": 12,
   "metadata": {},
   "outputs": [],
   "source": [
    "#apply one hot encoding\n",
    "def one_hot_encode(df, cat_attribs):\n",
    "    dummies = pd.get_dummies(df[cat_attribs])\n",
    "    df = df.join(dummies)\n",
    "    df = df.drop(cat_attribs, axis=1)\n",
    "    return df"
   ]
  },
  {
   "cell_type": "code",
   "execution_count": 33,
   "metadata": {},
   "outputs": [
    {
     "name": "stdout",
     "output_type": "stream",
     "text": [
      "Feature matrix shape before one hot encoding is (489120, 69)\n",
      "Feature matrix shape after one hot encoding is (489120, 87)\n"
     ]
    }
   ],
   "source": [
    "#OHE - 'fullfilment_center.center_type', 'meal_info.category',\t'meal_info.cuisine'\n",
    "print('Feature matrix shape before one hot encoding is {}'.format(feature_matrix.shape))\n",
    "ohe_cols = ['fullfilment_center.center_type', 'meal_info.category', 'meal_info.cuisine']\n",
    "#             'interaction_1', 'interaction_2', \\\n",
    "#             'interaction_3', 'interaction_4', 'interaction_5', 'interaction_6', 'interaction_7', 'interaction_8', \\\n",
    "#            'interaction_9', 'interaction_10', 'interaction_11', 'interaction_12', 'interaction_13', 'interaction_14', \\\n",
    "#             'interaction_15', 'interaction_16', 'interaction_17', 'interaction_18', 'interaction_19', 'interaction_20', \\\n",
    "#        'interaction_21', 'interaction_22', 'interaction_23', 'interaction_24']\n",
    "\n",
    "feature_matrix = one_hot_encode(feature_matrix, ohe_cols)\n",
    "print('Feature matrix shape after one hot encoding is {}'.format(feature_matrix.shape))"
   ]
  },
  {
   "cell_type": "code",
   "execution_count": 34,
   "metadata": {},
   "outputs": [
    {
     "name": "stdout",
     "output_type": "stream",
     "text": [
      "Feature matrix shape after dropping cols with nan correlations to the target variable is (489120, 77)\n"
     ]
    }
   ],
   "source": [
    "#drop cols with nan correlations to the target variable\n",
    "cols_to_drop = ['fullfilment_center.MIN(demand.week)', 'fullfilment_center.MIN(demand.emailer_for_promotion)', \\\n",
    "                'fullfilment_center.MIN(demand.homepage_featured)', 'fullfilment_center.MAX(demand.week)', \\\n",
    "                'fullfilment_center.MAX(demand.emailer_for_promotion)', 'fullfilment_center.MAX(demand.homepage_featured)', \\\n",
    "                'meal_info.MIN(demand.emailer_for_promotion)', 'meal_info.MIN(demand.homepage_featured)', \\\n",
    "                'meal_info.MAX(demand.week)', 'meal_info.MAX(demand.homepage_featured)']\n",
    "feature_matrix.drop(cols_to_drop, axis=1, inplace=True)\n",
    "print('Feature matrix shape after dropping cols with nan correlations to the target variable is {}'.format(feature_matrix.shape))"
   ]
  },
  {
   "cell_type": "code",
   "execution_count": 18,
   "metadata": {},
   "outputs": [],
   "source": [
    "cols = feature_matrix.columns"
   ]
  },
  {
   "cell_type": "code",
   "execution_count": 19,
   "metadata": {},
   "outputs": [],
   "source": [
    "with open('../data/columns.txt', 'w') as f:\n",
    "    for item in cols:\n",
    "        f.write(\"%s\\n\" % item)"
   ]
  },
  {
   "cell_type": "code",
   "execution_count": 38,
   "metadata": {},
   "outputs": [
    {
     "data": {
      "text/html": [
       "<div>\n",
       "<style scoped>\n",
       "    .dataframe tbody tr th:only-of-type {\n",
       "        vertical-align: middle;\n",
       "    }\n",
       "\n",
       "    .dataframe tbody tr th {\n",
       "        vertical-align: top;\n",
       "    }\n",
       "\n",
       "    .dataframe thead th {\n",
       "        text-align: right;\n",
       "    }\n",
       "</style>\n",
       "<table border=\"1\" class=\"dataframe\">\n",
       "  <thead>\n",
       "    <tr style=\"text-align: right;\">\n",
       "      <th></th>\n",
       "      <th>meal_info.MEAN(demand.base_price)</th>\n",
       "      <th>meal_info.MEAN(demand.emailer_for_promotion)</th>\n",
       "      <th>meal_info.MEAN(demand.homepage_featured)</th>\n",
       "      <th>meal_info.MEAN(demand.discount)</th>\n",
       "      <th>meal_info.MODE(demand.center_id)</th>\n",
       "      <th>meal_info.MODE(demand.set)</th>\n",
       "      <th>fullfilment_center.center_type_TYPE_A</th>\n",
       "      <th>fullfilment_center.center_type_TYPE_B</th>\n",
       "      <th>fullfilment_center.center_type_TYPE_C</th>\n",
       "      <th>meal_info.category_Beverages</th>\n",
       "      <th>meal_info.category_Biryani</th>\n",
       "      <th>meal_info.category_Desert</th>\n",
       "      <th>meal_info.category_Extras</th>\n",
       "      <th>meal_info.category_Fish</th>\n",
       "      <th>meal_info.category_Other Snacks</th>\n",
       "      <th>meal_info.category_Pasta</th>\n",
       "      <th>meal_info.category_Pizza</th>\n",
       "      <th>meal_info.category_Rice Bowl</th>\n",
       "      <th>meal_info.category_Salad</th>\n",
       "      <th>meal_info.category_Sandwich</th>\n",
       "    </tr>\n",
       "    <tr>\n",
       "      <th>id</th>\n",
       "      <th></th>\n",
       "      <th></th>\n",
       "      <th></th>\n",
       "      <th></th>\n",
       "      <th></th>\n",
       "      <th></th>\n",
       "      <th></th>\n",
       "      <th></th>\n",
       "      <th></th>\n",
       "      <th></th>\n",
       "      <th></th>\n",
       "      <th></th>\n",
       "      <th></th>\n",
       "      <th></th>\n",
       "      <th></th>\n",
       "      <th></th>\n",
       "      <th></th>\n",
       "      <th></th>\n",
       "      <th></th>\n",
       "      <th></th>\n",
       "    </tr>\n",
       "  </thead>\n",
       "  <tbody>\n",
       "    <tr>\n",
       "      <th>1000000</th>\n",
       "      <td>239.501669</td>\n",
       "      <td>0.000000</td>\n",
       "      <td>0.069682</td>\n",
       "      <td>11.598132</td>\n",
       "      <td>10</td>\n",
       "      <td>train</td>\n",
       "      <td>1</td>\n",
       "      <td>0</td>\n",
       "      <td>0</td>\n",
       "      <td>0</td>\n",
       "      <td>0</td>\n",
       "      <td>0</td>\n",
       "      <td>0</td>\n",
       "      <td>0</td>\n",
       "      <td>1</td>\n",
       "      <td>0</td>\n",
       "      <td>0</td>\n",
       "      <td>0</td>\n",
       "      <td>0</td>\n",
       "      <td>0</td>\n",
       "    </tr>\n",
       "    <tr>\n",
       "      <th>1000001</th>\n",
       "      <td>599.132903</td>\n",
       "      <td>0.014419</td>\n",
       "      <td>0.032844</td>\n",
       "      <td>15.265829</td>\n",
       "      <td>34</td>\n",
       "      <td>train</td>\n",
       "      <td>1</td>\n",
       "      <td>0</td>\n",
       "      <td>0</td>\n",
       "      <td>0</td>\n",
       "      <td>0</td>\n",
       "      <td>0</td>\n",
       "      <td>0</td>\n",
       "      <td>1</td>\n",
       "      <td>0</td>\n",
       "      <td>0</td>\n",
       "      <td>0</td>\n",
       "      <td>0</td>\n",
       "      <td>0</td>\n",
       "      <td>0</td>\n",
       "    </tr>\n",
       "    <tr>\n",
       "      <th>1000002</th>\n",
       "      <td>305.912397</td>\n",
       "      <td>0.178012</td>\n",
       "      <td>0.160741</td>\n",
       "      <td>20.862923</td>\n",
       "      <td>10</td>\n",
       "      <td>train</td>\n",
       "      <td>0</td>\n",
       "      <td>1</td>\n",
       "      <td>0</td>\n",
       "      <td>0</td>\n",
       "      <td>0</td>\n",
       "      <td>0</td>\n",
       "      <td>0</td>\n",
       "      <td>0</td>\n",
       "      <td>0</td>\n",
       "      <td>0</td>\n",
       "      <td>0</td>\n",
       "      <td>0</td>\n",
       "      <td>0</td>\n",
       "      <td>1</td>\n",
       "    </tr>\n",
       "    <tr>\n",
       "      <th>1000003</th>\n",
       "      <td>131.432133</td>\n",
       "      <td>0.030860</td>\n",
       "      <td>0.163486</td>\n",
       "      <td>3.313660</td>\n",
       "      <td>10</td>\n",
       "      <td>train</td>\n",
       "      <td>0</td>\n",
       "      <td>1</td>\n",
       "      <td>0</td>\n",
       "      <td>1</td>\n",
       "      <td>0</td>\n",
       "      <td>0</td>\n",
       "      <td>0</td>\n",
       "      <td>0</td>\n",
       "      <td>0</td>\n",
       "      <td>0</td>\n",
       "      <td>0</td>\n",
       "      <td>0</td>\n",
       "      <td>0</td>\n",
       "      <td>0</td>\n",
       "    </tr>\n",
       "    <tr>\n",
       "      <th>1000004</th>\n",
       "      <td>131.432133</td>\n",
       "      <td>0.030860</td>\n",
       "      <td>0.163486</td>\n",
       "      <td>3.313660</td>\n",
       "      <td>10</td>\n",
       "      <td>train</td>\n",
       "      <td>1</td>\n",
       "      <td>0</td>\n",
       "      <td>0</td>\n",
       "      <td>1</td>\n",
       "      <td>0</td>\n",
       "      <td>0</td>\n",
       "      <td>0</td>\n",
       "      <td>0</td>\n",
       "      <td>0</td>\n",
       "      <td>0</td>\n",
       "      <td>0</td>\n",
       "      <td>0</td>\n",
       "      <td>0</td>\n",
       "      <td>0</td>\n",
       "    </tr>\n",
       "  </tbody>\n",
       "</table>\n",
       "</div>"
      ],
      "text/plain": [
       "         meal_info.MEAN(demand.base_price)  \\\n",
       "id                                           \n",
       "1000000                         239.501669   \n",
       "1000001                         599.132903   \n",
       "1000002                         305.912397   \n",
       "1000003                         131.432133   \n",
       "1000004                         131.432133   \n",
       "\n",
       "         meal_info.MEAN(demand.emailer_for_promotion)  \\\n",
       "id                                                      \n",
       "1000000                                      0.000000   \n",
       "1000001                                      0.014419   \n",
       "1000002                                      0.178012   \n",
       "1000003                                      0.030860   \n",
       "1000004                                      0.030860   \n",
       "\n",
       "         meal_info.MEAN(demand.homepage_featured)  \\\n",
       "id                                                  \n",
       "1000000                                  0.069682   \n",
       "1000001                                  0.032844   \n",
       "1000002                                  0.160741   \n",
       "1000003                                  0.163486   \n",
       "1000004                                  0.163486   \n",
       "\n",
       "         meal_info.MEAN(demand.discount)  meal_info.MODE(demand.center_id)  \\\n",
       "id                                                                           \n",
       "1000000                        11.598132                                10   \n",
       "1000001                        15.265829                                34   \n",
       "1000002                        20.862923                                10   \n",
       "1000003                         3.313660                                10   \n",
       "1000004                         3.313660                                10   \n",
       "\n",
       "        meal_info.MODE(demand.set)  fullfilment_center.center_type_TYPE_A  \\\n",
       "id                                                                          \n",
       "1000000                      train                                      1   \n",
       "1000001                      train                                      1   \n",
       "1000002                      train                                      0   \n",
       "1000003                      train                                      0   \n",
       "1000004                      train                                      1   \n",
       "\n",
       "         fullfilment_center.center_type_TYPE_B  \\\n",
       "id                                               \n",
       "1000000                                      0   \n",
       "1000001                                      0   \n",
       "1000002                                      1   \n",
       "1000003                                      1   \n",
       "1000004                                      0   \n",
       "\n",
       "         fullfilment_center.center_type_TYPE_C  meal_info.category_Beverages  \\\n",
       "id                                                                             \n",
       "1000000                                      0                             0   \n",
       "1000001                                      0                             0   \n",
       "1000002                                      0                             0   \n",
       "1000003                                      0                             1   \n",
       "1000004                                      0                             1   \n",
       "\n",
       "         meal_info.category_Biryani  meal_info.category_Desert  \\\n",
       "id                                                               \n",
       "1000000                           0                          0   \n",
       "1000001                           0                          0   \n",
       "1000002                           0                          0   \n",
       "1000003                           0                          0   \n",
       "1000004                           0                          0   \n",
       "\n",
       "         meal_info.category_Extras  meal_info.category_Fish  \\\n",
       "id                                                            \n",
       "1000000                          0                        0   \n",
       "1000001                          0                        1   \n",
       "1000002                          0                        0   \n",
       "1000003                          0                        0   \n",
       "1000004                          0                        0   \n",
       "\n",
       "         meal_info.category_Other Snacks  meal_info.category_Pasta  \\\n",
       "id                                                                   \n",
       "1000000                                1                         0   \n",
       "1000001                                0                         0   \n",
       "1000002                                0                         0   \n",
       "1000003                                0                         0   \n",
       "1000004                                0                         0   \n",
       "\n",
       "         meal_info.category_Pizza  meal_info.category_Rice Bowl  \\\n",
       "id                                                                \n",
       "1000000                         0                             0   \n",
       "1000001                         0                             0   \n",
       "1000002                         0                             0   \n",
       "1000003                         0                             0   \n",
       "1000004                         0                             0   \n",
       "\n",
       "         meal_info.category_Salad  meal_info.category_Sandwich  \n",
       "id                                                              \n",
       "1000000                         0                            0  \n",
       "1000001                         0                            0  \n",
       "1000002                         0                            1  \n",
       "1000003                         0                            0  \n",
       "1000004                         0                            0  "
      ]
     },
     "execution_count": 38,
     "metadata": {},
     "output_type": "execute_result"
    }
   ],
   "source": [
    "feature_matrix.iloc[:5,50:70]"
   ]
  },
  {
   "cell_type": "code",
   "execution_count": 34,
   "metadata": {},
   "outputs": [
    {
     "name": "stdout",
     "output_type": "stream",
     "text": [
      "Train shape is (456547, 2082)\n",
      "Test shape is (32573, 2081)\n"
     ]
    }
   ],
   "source": [
    "#separate train and test dataset\n",
    "train = feature_matrix[feature_matrix['set'] == 'train'].copy()\n",
    "test = feature_matrix[feature_matrix['set'] == 'test'].copy()\n",
    "#add num_orders to train using id\n",
    "train = train.merge(target, on='id', how = 'left')\n",
    "train.reset_index(inplace=True)\n",
    "train.drop('index', axis=1, inplace=True)\n",
    "test.reset_index(inplace=True)\n",
    "print('Train shape is {}'.format(train.shape))\n",
    "print('Test shape is {}'.format(test.shape))"
   ]
  },
  {
   "cell_type": "code",
   "execution_count": 35,
   "metadata": {},
   "outputs": [
    {
     "name": "stdout",
     "output_type": "stream",
     "text": [
      "Train shape after dropping unwanted columns is (456547, 2078)\n",
      "Test shape after dropping unwanted columns is (32573, 2077)\n"
     ]
    }
   ],
   "source": [
    "#Drop - 'id', 'set', 'meal_info.MODE(demand.set)'\n",
    "cols_drop = ['id', 'set', 'meal_info.MODE(demand.set)', 'fullfilment_center.MODE(demand.set)']\n",
    "train.drop(cols_drop, axis=1, inplace=True)\n",
    "test.drop(cols_drop, axis=1, inplace=True)\n",
    "print('Train shape after dropping unwanted columns is {}'.format(train.shape))\n",
    "print('Test shape after dropping unwanted columns is {}'.format(test.shape))"
   ]
  },
  {
   "cell_type": "code",
   "execution_count": 36,
   "metadata": {},
   "outputs": [],
   "source": [
    "# Function to calculate correlations with the target for a dataframe\n",
    "def target_corrs(df):\n",
    "\n",
    "    # List of correlations\n",
    "    corrs = []\n",
    "    \n",
    "    #create a new df with numeric columns\n",
    "    numerics = ['int16', 'int32', 'int64', 'float16', 'float32', 'float64']\n",
    "    newdf = df.select_dtypes(include=numerics)\n",
    "    \n",
    "    # Iterate through the columns \n",
    "    for col in newdf.columns:\n",
    "#         print(col)\n",
    "        # Skip the target column\n",
    "        if col != 'num_orders':\n",
    "            # Calculate correlation with the target\n",
    "            corr = newdf['num_orders'].corr(newdf[col])\n",
    "\n",
    "            # Append the list as a tuple\n",
    "            corrs.append((col, corr))\n",
    "            \n",
    "    # Sort by absolute magnitude of correlations\n",
    "    corrs = sorted(corrs, key = lambda x: abs(x[1]), reverse = True)\n",
    "    \n",
    "    #free up memory\n",
    "    gc.enable()\n",
    "    del df, newdf\n",
    "    gc.collect()\n",
    "    \n",
    "    return corrs"
   ]
  },
  {
   "cell_type": "code",
   "execution_count": 37,
   "metadata": {},
   "outputs": [],
   "source": [
    "correlations=target_corrs(train)"
   ]
  },
  {
   "cell_type": "code",
   "execution_count": 38,
   "metadata": {},
   "outputs": [
    {
     "data": {
      "text/plain": [
       "[('homepage_featured', 0.29530754224247674),\n",
       " ('checkout_price', -0.2831033139067199),\n",
       " ('emailer_for_promotion', 0.2778266151993247),\n",
       " ('meal_info.MAX(demand.base_price)', -0.268315366166357),\n",
       " ('meal_info.MAX(demand.discount)', -0.25946298197539136),\n",
       " ('meal_info.MAX(demand.checkout_price)', -0.25750379547358576),\n",
       " ('meal_info.SUM(demand.week)', 0.25240830717989393),\n",
       " ('meal_info.COUNT(demand)', 0.24194855519601333),\n",
       " ('meal_info.MEAN(demand.base_price)', -0.2307404424033613),\n",
       " ('meal_info.MEAN(demand.checkout_price)', -0.23032979181661073),\n",
       " ('base_price', -0.2231735189298536),\n",
       " ('meal_info.MIN(demand.base_price)', -0.21290264215850846),\n",
       " ('fullfilment_center.SUM(demand.week)', 0.18685518821322022),\n",
       " ('fullfilment_center.SUM(demand.checkout_price)', 0.18151682668359637),\n",
       " ('fullfilment_center.COUNT(demand)', 0.18140828972220485),\n",
       " ('fullfilment_center.SUM(demand.base_price)', 0.18076575893411698),\n",
       " ('fullfilment_center.op_area', 0.17757090332045494),\n",
       " ('fullfilment_center.MEAN(demand.emailer_for_promotion)',\n",
       "  -0.17098493537554812),\n",
       " ('meal_info.MEAN(demand.discount)', -0.16485651976955154),\n",
       " ('meal_info.MAX(demand.emailer_for_promotion)', 0.15477391235128063),\n",
       " ('discount', 0.1532132363855849),\n",
       " ('meal_info.MIN(demand.checkout_price)', -0.14711466549845065),\n",
       " ('meal_info.SUM(demand.homepage_featured)', 0.13996022919129744),\n",
       " ('fullfilment_center.SUM(demand.homepage_featured)', 0.13582600883912246),\n",
       " ('fullfilment_center.SUM(demand.discount)', 0.13520848206030647),\n",
       " ('meal_info.MIN(demand.discount)', 0.13008537918911578),\n",
       " ('meal_info.SUM(demand.base_price)', -0.12133286889001776),\n",
       " ('meal_info.SUM(demand.discount)', -0.12006518167316906),\n",
       " ('meal_info.SUM(demand.checkout_price)', -0.11866677682694579),\n",
       " ('fullfilment_center.MIN(demand.base_price)', 0.10342137207221959),\n",
       " ('meal_info.MEAN(demand.homepage_featured)', 0.10042996550635595),\n",
       " ('fullfilment_center.MEAN(demand.homepage_featured)', 0.09198203009790734),\n",
       " ('fullfilment_center.MAX(demand.discount)', -0.0829722634643868),\n",
       " ('fullfilment_center.MAX(demand.base_price)', -0.07918853477578215),\n",
       " ('fullfilment_center.MAX(demand.checkout_price)', -0.0789985884046237),\n",
       " ('meal_info.SUM(demand.emailer_for_promotion)', 0.06973535219757132),\n",
       " ('fullfilment_center.MIN(demand.checkout_price)', 0.06689492096119254),\n",
       " ('fullfilment_center.SUM(demand.emailer_for_promotion)',\n",
       "  -0.06388738800039002),\n",
       " ('fullfilment_center.MEAN(demand.base_price)', 0.054188529681149705),\n",
       " ('center_id', -0.053136539447447506),\n",
       " ('fullfilment_center.MEAN(demand.checkout_price)', 0.052006631334126086),\n",
       " ('fullfilment_center.MEAN(demand.week)', 0.04765822945040149),\n",
       " ('fullfilment_center.MODE(demand.meal_id)', -0.04682737797294677),\n",
       " ('meal_info.MEAN(demand.emailer_for_promotion)', 0.041997590967012215),\n",
       " ('fullfilment_center.city_code', 0.04178822553924097),\n",
       " ('meal_info.MIN(demand.week)', -0.038821748902047384),\n",
       " ('meal_info.MEAN(demand.week)', -0.03656871734000227),\n",
       " ('fullfilment_center.region_code', 0.02986957028006667),\n",
       " ('fullfilment_center.MIN(demand.discount)', 0.0286893451831485),\n",
       " ('fullfilment_center.MEAN(demand.discount)', -0.019318789154355274),\n",
       " ('week', -0.017055526829223632),\n",
       " ('meal_id', 0.010574900596661123),\n",
       " ('meal_info.MODE(demand.center_id)', -0.0020289576181058313)]"
      ]
     },
     "execution_count": 38,
     "metadata": {},
     "output_type": "execute_result"
    }
   ],
   "source": [
    "correlations"
   ]
  },
  {
   "cell_type": "code",
   "execution_count": 39,
   "metadata": {},
   "outputs": [],
   "source": [
    "train.to_csv('../data/2.fe_train2.csv', index=False)\n",
    "test.to_csv('../data/2.fe_test2.csv', index=False)"
   ]
  },
  {
   "cell_type": "code",
   "execution_count": null,
   "metadata": {},
   "outputs": [],
   "source": []
  }
 ],
 "metadata": {
  "kernelspec": {
   "display_name": "py_3_6_5_keras",
   "language": "python",
   "name": "py_3_6_5_keras"
  },
  "language_info": {
   "codemirror_mode": {
    "name": "ipython",
    "version": 3
   },
   "file_extension": ".py",
   "mimetype": "text/x-python",
   "name": "python",
   "nbconvert_exporter": "python",
   "pygments_lexer": "ipython3",
   "version": "3.6.5"
  },
  "toc": {
   "base_numbering": 1,
   "nav_menu": {},
   "number_sections": true,
   "sideBar": true,
   "skip_h1_title": false,
   "title_cell": "Table of Contents",
   "title_sidebar": "Contents",
   "toc_cell": false,
   "toc_position": {},
   "toc_section_display": true,
   "toc_window_display": true
  },
  "varInspector": {
   "cols": {
    "lenName": 16,
    "lenType": 16,
    "lenVar": 40
   },
   "kernels_config": {
    "python": {
     "delete_cmd_postfix": "",
     "delete_cmd_prefix": "del ",
     "library": "var_list.py",
     "varRefreshCmd": "print(var_dic_list())"
    },
    "r": {
     "delete_cmd_postfix": ") ",
     "delete_cmd_prefix": "rm(",
     "library": "var_list.r",
     "varRefreshCmd": "cat(var_dic_list()) "
    }
   },
   "types_to_exclude": [
    "module",
    "function",
    "builtin_function_or_method",
    "instance",
    "_Feature"
   ],
   "window_display": false
  }
 },
 "nbformat": 4,
 "nbformat_minor": 2
}
