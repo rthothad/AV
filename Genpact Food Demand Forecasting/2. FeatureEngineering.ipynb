{
 "cells": [
  {
   "cell_type": "code",
   "execution_count": 1,
   "metadata": {},
   "outputs": [],
   "source": [
    "import pandas as pd\n",
    "import numpy as np\n",
    "from sklearn.preprocessing import StandardScaler\n",
    "from sklearn.model_selection import KFold\n",
    "import warnings\n",
    "warnings.filterwarnings(\"ignore\")\n",
    "import featuretools as ft\n",
    "\n",
    "import gc"
   ]
  },
  {
   "cell_type": "code",
   "execution_count": 140,
   "metadata": {},
   "outputs": [],
   "source": [
    "train = pd.read_csv('../data/train_merged.csv')\n",
    "test = pd.read_csv('../data/test_merged.csv')"
   ]
  },
  {
   "cell_type": "code",
   "execution_count": 141,
   "metadata": {},
   "outputs": [
    {
     "data": {
      "text/plain": [
       "((456548, 15), (32573, 14))"
      ]
     },
     "execution_count": 141,
     "metadata": {},
     "output_type": "execute_result"
    }
   ],
   "source": [
    "train.shape, test.shape"
   ]
  },
  {
   "cell_type": "markdown",
   "metadata": {},
   "source": [
    "<h1>Manual Feature Engineering</h1>"
   ]
  },
  {
   "cell_type": "code",
   "execution_count": 142,
   "metadata": {},
   "outputs": [],
   "source": [
    "#drop the outlier\n",
    "train.drop(train[train.num_orders > 23000].index, inplace=True)\n",
    "\n",
    "train['discount'] = train.base_price - train.checkout_price\n",
    "test['discount'] = test.base_price - test.checkout_price"
   ]
  },
  {
   "cell_type": "markdown",
   "metadata": {},
   "source": [
    "<h2>Define functions to generate year, quarter and month from week number</h2>"
   ]
  },
  {
   "cell_type": "code",
   "execution_count": 46,
   "metadata": {},
   "outputs": [],
   "source": [
    "def get_year(week_num):\n",
    "    return math.ceil(week_num/52)"
   ]
  },
  {
   "cell_type": "code",
   "execution_count": 120,
   "metadata": {},
   "outputs": [],
   "source": [
    "def get_month(week_num):\n",
    "    wk_excluding_year = week_num\n",
    "    #there are 52 weeks in a year, so lets separate out the year by dividing with modulo\n",
    "    if week_num > 52:\n",
    "        wk_excluding_year = week_num%52\n",
    "    #some months may have more than 4 weeks, to keep the math simple we will cap the week_number to 48 for any given year.\n",
    "    if wk_excluding_year > 48:\n",
    "        wk_excluding_year = 48\n",
    "    \n",
    "    if wk_excluding_year <= 4: return 1\n",
    "    if wk_excluding_year > 4 and wk_excluding_year <= 8: return 2\n",
    "    if wk_excluding_year > 8 and wk_excluding_year <= 12: return 3\n",
    "    if wk_excluding_year > 12 and wk_excluding_year <= 16: return 4\n",
    "    if wk_excluding_year > 16 and wk_excluding_year <= 20: return 5\n",
    "    if wk_excluding_year > 20 and wk_excluding_year <= 24: return 6\n",
    "    \n",
    "    if wk_excluding_year > 24 and wk_excluding_year <= 28: return 7\n",
    "    if wk_excluding_year > 28 and wk_excluding_year <= 32: return 8\n",
    "    if wk_excluding_year > 32 and wk_excluding_year <= 36: return 9\n",
    "    if wk_excluding_year > 36 and wk_excluding_year <= 40: return 10\n",
    "    if wk_excluding_year > 40 and wk_excluding_year <= 44: return 11\n",
    "    if wk_excluding_year > 44 and wk_excluding_year <= 48: return 12"
   ]
  },
  {
   "cell_type": "code",
   "execution_count": 116,
   "metadata": {},
   "outputs": [],
   "source": [
    "def get_quarter(week_num):\n",
    "    wk_excluding_year = week_num\n",
    "    #there are 52 weeks in a year, so lets separate out the year by dividing with modulo\n",
    "    if week_num > 52:\n",
    "        wk_excluding_year = week_num%52\n",
    "    #some months may have more than 4 weeks, to keep the math simple we will cap the week_number to 48 for any given year.\n",
    "    if wk_excluding_year > 48:\n",
    "        wk_excluding_year = 48\n",
    "    if wk_excluding_year <= 12: return 1\n",
    "    if wk_excluding_year > 12 and wk_excluding_year <= 24: return 2\n",
    "    if wk_excluding_year > 24 and wk_excluding_year <= 36: return 3\n",
    "    if wk_excluding_year > 36 and wk_excluding_year <= 48: return 4"
   ]
  },
  {
   "cell_type": "code",
   "execution_count": 143,
   "metadata": {},
   "outputs": [],
   "source": [
    "train['year'] = train['week'].apply(get_year)\n",
    "train['quarter'] = train['week'].apply(get_quarter)\n",
    "train['month'] = train['week'].apply(get_month)\n",
    "\n",
    "test['year'] = test['week'].apply(get_year)\n",
    "test['quarter'] = test['week'].apply(get_quarter)\n",
    "test['month'] = test['week'].apply(get_month)"
   ]
  },
  {
   "cell_type": "code",
   "execution_count": 144,
   "metadata": {},
   "outputs": [],
   "source": [
    "#separate the target column and merge train dataset with test dataset\n",
    "target = train[['id', 'num_orders']]\n",
    "train.drop(['num_orders'], axis=1, inplace=True)\n",
    "train['set']='train'\n",
    "test['set']='test'\n",
    "data = train.append(test, ignore_index=True)"
   ]
  },
  {
   "cell_type": "markdown",
   "metadata": {},
   "source": [
    "<h1>Feature Engineering using Featuretools</h1>\n",
    "<h2>Create an entity dataset</h2><br>\n",
    "An EntitySet is a structure that contains multiple dataframes and relationships between them. So, let’s create an EntitySet and add the dataframe combination to it."
   ]
  },
  {
   "cell_type": "code",
   "execution_count": 145,
   "metadata": {},
   "outputs": [
    {
     "data": {
      "text/plain": [
       "Entityset: fooddemand\n",
       "  Entities:\n",
       "    demand [Rows: 489120, Columns: 19]\n",
       "  Relationships:\n",
       "    No relationships"
      ]
     },
     "execution_count": 145,
     "metadata": {},
     "output_type": "execute_result"
    }
   ],
   "source": [
    "# create an entity set 'es'\n",
    "es = ft.EntitySet(id = 'fooddemand')\n",
    "\n",
    "# adding a dataframe \n",
    "es.entity_from_dataframe(entity_id = 'demand', dataframe = data, index = 'id')"
   ]
  },
  {
   "cell_type": "code",
   "execution_count": 146,
   "metadata": {},
   "outputs": [
    {
     "data": {
      "text/plain": [
       "Entityset: fooddemand\n",
       "  Entities:\n",
       "    demand [Rows: 489120, Columns: 13]\n",
       "    fullfilment_center [Rows: 77, Columns: 5]\n",
       "    meal_info [Rows: 51, Columns: 3]\n",
       "  Relationships:\n",
       "    demand.center_id -> fullfilment_center.center_id\n",
       "    demand.meal_id -> meal_info.meal_id"
      ]
     },
     "execution_count": 146,
     "metadata": {},
     "output_type": "execute_result"
    }
   ],
   "source": [
    "es.normalize_entity(base_entity_id='demand', new_entity_id='fullfilment_center', index = 'center_id', \n",
    "additional_variables = ['city_code', 'region_code', 'center_type', 'op_area'])\n",
    "\n",
    "es.normalize_entity(base_entity_id='demand', new_entity_id='meal_info', index = 'meal_id', \n",
    "additional_variables = ['category', 'cuisine'])"
   ]
  },
  {
   "cell_type": "code",
   "execution_count": 147,
   "metadata": {},
   "outputs": [
    {
     "name": "stdout",
     "output_type": "stream",
     "text": [
      "Entityset: fooddemand\n",
      "  Entities:\n",
      "    demand [Rows: 489120, Columns: 13]\n",
      "    fullfilment_center [Rows: 77, Columns: 5]\n",
      "    meal_info [Rows: 51, Columns: 3]\n",
      "  Relationships:\n",
      "    demand.center_id -> fullfilment_center.center_id\n",
      "    demand.meal_id -> meal_info.meal_id\n"
     ]
    }
   ],
   "source": [
    "print(es)"
   ]
  },
  {
   "cell_type": "code",
   "execution_count": 148,
   "metadata": {},
   "outputs": [
    {
     "name": "stdout",
     "output_type": "stream",
     "text": [
      "Built 96 features\n",
      "Elapsed: 00:45 | Remaining: 00:00 | Progress: 100%|██████████████████████████████████████████| Calculated: 10/10 chunks\n"
     ]
    }
   ],
   "source": [
    "# Specify the aggregation primitives\n",
    "feature_matrix, feature_names = ft.dfs(entityset = es, target_entity = 'demand',  \n",
    "                                                 agg_primitives = ['sum', 'count', 'min', 'max', 'mean', 'mode'], \n",
    "                                                 max_depth = 2, features_only = False, verbose = True)"
   ]
  },
  {
   "cell_type": "code",
   "execution_count": 149,
   "metadata": {},
   "outputs": [],
   "source": [
    "#apply one hot encoding\n",
    "def one_hot_encode(df, cat_attribs):\n",
    "    dummies = pd.get_dummies(df[cat_attribs])\n",
    "    df = df.join(dummies)\n",
    "    df = df.drop(cat_attribs, axis=1)\n",
    "    return df"
   ]
  },
  {
   "cell_type": "code",
   "execution_count": 150,
   "metadata": {},
   "outputs": [
    {
     "name": "stdout",
     "output_type": "stream",
     "text": [
      "Feature matrix shape before one hot encoding is (489120, 96)\n",
      "Feature matrix shape after one hot encoding is (489120, 114)\n"
     ]
    }
   ],
   "source": [
    "#OHE - 'fullfilment_center.center_type', 'meal_info.category',\t'meal_info.cuisine'\n",
    "print('Feature matrix shape before one hot encoding is {}'.format(feature_matrix.shape))\n",
    "ohe_cols = ['fullfilment_center.center_type', 'meal_info.category', 'meal_info.cuisine']\n",
    "\n",
    "feature_matrix = one_hot_encode(feature_matrix, ohe_cols)\n",
    "print('Feature matrix shape after one hot encoding is {}'.format(feature_matrix.shape))"
   ]
  },
  {
   "cell_type": "code",
   "execution_count": 151,
   "metadata": {},
   "outputs": [
    {
     "name": "stdout",
     "output_type": "stream",
     "text": [
      "Feature matrix shape after dropping cols with nan correlations to the target variable is (489120, 104)\n"
     ]
    }
   ],
   "source": [
    "#drop cols with nan correlations to the target variable\n",
    "cols_to_drop = ['fullfilment_center.MIN(demand.week)', 'fullfilment_center.MIN(demand.emailer_for_promotion)', \\\n",
    "                'fullfilment_center.MIN(demand.homepage_featured)', 'fullfilment_center.MAX(demand.week)', \\\n",
    "                'fullfilment_center.MAX(demand.emailer_for_promotion)', 'fullfilment_center.MAX(demand.homepage_featured)', \\\n",
    "                'meal_info.MIN(demand.emailer_for_promotion)', 'meal_info.MIN(demand.homepage_featured)', \\\n",
    "                'meal_info.MAX(demand.week)', 'meal_info.MAX(demand.homepage_featured)']\n",
    "feature_matrix.drop(cols_to_drop, axis=1, inplace=True)\n",
    "print('Feature matrix shape after dropping cols with nan correlations to the target variable is {}'.format(feature_matrix.shape))"
   ]
  },
  {
   "cell_type": "code",
   "execution_count": 152,
   "metadata": {},
   "outputs": [],
   "source": [
    "# cols = feature_matrix.columns"
   ]
  },
  {
   "cell_type": "code",
   "execution_count": 153,
   "metadata": {},
   "outputs": [],
   "source": [
    "# with open('../data/columns.txt', 'w') as f:\n",
    "#     for item in cols:\n",
    "#         f.write(\"%s\\n\" % item)"
   ]
  },
  {
   "cell_type": "code",
   "execution_count": 154,
   "metadata": {},
   "outputs": [],
   "source": [
    "# feature_matrix.iloc[:5,50:70]"
   ]
  },
  {
   "cell_type": "code",
   "execution_count": 155,
   "metadata": {},
   "outputs": [
    {
     "name": "stdout",
     "output_type": "stream",
     "text": [
      "Train shape is (456547, 106)\n",
      "Test shape is (32573, 105)\n"
     ]
    }
   ],
   "source": [
    "#separate train and test dataset\n",
    "train = feature_matrix[feature_matrix['set'] == 'train'].copy()\n",
    "test = feature_matrix[feature_matrix['set'] == 'test'].copy()\n",
    "#add num_orders to train using id\n",
    "train = train.merge(target, on='id', how = 'left')\n",
    "train.reset_index(inplace=True)\n",
    "train.drop('index', axis=1, inplace=True)\n",
    "test.reset_index(inplace=True)\n",
    "print('Train shape is {}'.format(train.shape))\n",
    "print('Test shape is {}'.format(test.shape))"
   ]
  },
  {
   "cell_type": "code",
   "execution_count": 156,
   "metadata": {},
   "outputs": [
    {
     "name": "stdout",
     "output_type": "stream",
     "text": [
      "Train shape after dropping unwanted columns is (456547, 102)\n",
      "Test shape after dropping unwanted columns is (32573, 101)\n"
     ]
    }
   ],
   "source": [
    "#Drop - 'id', 'set', 'meal_info.MODE(demand.set)'\n",
    "cols_drop = ['id', 'set', 'meal_info.MODE(demand.set)', 'fullfilment_center.MODE(demand.set)']\n",
    "train.drop(cols_drop, axis=1, inplace=True)\n",
    "test.drop(cols_drop, axis=1, inplace=True)\n",
    "print('Train shape after dropping unwanted columns is {}'.format(train.shape))\n",
    "print('Test shape after dropping unwanted columns is {}'.format(test.shape))"
   ]
  },
  {
   "cell_type": "code",
   "execution_count": 157,
   "metadata": {},
   "outputs": [],
   "source": [
    "# Function to calculate correlations with the target for a dataframe\n",
    "def target_corrs(df):\n",
    "\n",
    "    # List of correlations\n",
    "    corrs = []\n",
    "    \n",
    "    #create a new df with numeric columns\n",
    "    numerics = ['int16', 'int32', 'int64', 'float16', 'float32', 'float64']\n",
    "    newdf = df.select_dtypes(include=numerics)\n",
    "    \n",
    "    # Iterate through the columns \n",
    "    for col in newdf.columns:\n",
    "#         print(col)\n",
    "        # Skip the target column\n",
    "        if col != 'num_orders':\n",
    "            # Calculate correlation with the target\n",
    "            corr = newdf['num_orders'].corr(newdf[col])\n",
    "\n",
    "            # Append the list as a tuple\n",
    "            corrs.append((col, corr))\n",
    "            \n",
    "    # Sort by absolute magnitude of correlations\n",
    "    corrs = sorted(corrs, key = lambda x: abs(x[1]), reverse = True)\n",
    "    \n",
    "    #free up memory\n",
    "    gc.enable()\n",
    "    del df, newdf\n",
    "    gc.collect()\n",
    "    \n",
    "    return corrs"
   ]
  },
  {
   "cell_type": "code",
   "execution_count": 158,
   "metadata": {},
   "outputs": [],
   "source": [
    "correlations=target_corrs(train)"
   ]
  },
  {
   "cell_type": "code",
   "execution_count": 159,
   "metadata": {},
   "outputs": [
    {
     "data": {
      "text/plain": [
       "[('homepage_featured', 0.29530754224247674),\n",
       " ('checkout_price', -0.2831033139067199),\n",
       " ('emailer_for_promotion', 0.2778266151993247),\n",
       " ('base_price', -0.2231735189298536),\n",
       " ('fullfilment_center.SUM(demand.week)', 0.18685518821322022),\n",
       " ('fullfilment_center.SUM(demand.year)', 0.18560314851388146),\n",
       " ('fullfilment_center.SUM(demand.month)', 0.18281221673236697),\n",
       " ('fullfilment_center.SUM(demand.quarter)', 0.1826473423694182),\n",
       " ('fullfilment_center.SUM(demand.checkout_price)', 0.18151682668359637),\n",
       " ('fullfilment_center.COUNT(demand)', 0.18140828972220485),\n",
       " ('fullfilment_center.SUM(demand.base_price)', 0.18076575893411698),\n",
       " ('fullfilment_center.op_area', 0.17757090332045494),\n",
       " ('discount', 0.1532132363855849),\n",
       " ('fullfilment_center.SUM(demand.homepage_featured)', 0.13582600883912246),\n",
       " ('fullfilment_center.SUM(demand.discount)', 0.13520848206030647),\n",
       " ('fullfilment_center.SUM(demand.emailer_for_promotion)',\n",
       "  -0.06388738800039002),\n",
       " ('center_id', -0.053136539447447506),\n",
       " ('fullfilment_center.city_code', 0.04178822553924097),\n",
       " ('fullfilment_center.region_code', 0.02986957028006667),\n",
       " ('week', -0.017055526829223632),\n",
       " ('year', -0.014399020412113675),\n",
       " ('quarter', -0.007322828607781333),\n",
       " ('month', -0.0071927250254277125),\n",
       " ('fullfilment_center.MIN(demand.year)', nan),\n",
       " ('fullfilment_center.MIN(demand.quarter)', nan),\n",
       " ('fullfilment_center.MIN(demand.month)', nan),\n",
       " ('fullfilment_center.MAX(demand.year)', nan),\n",
       " ('fullfilment_center.MAX(demand.quarter)', nan),\n",
       " ('fullfilment_center.MAX(demand.month)', nan),\n",
       " ('fullfilment_center.MEAN(demand.emailer_for_promotion)',\n",
       "  -0.17098493537554812),\n",
       " ('fullfilment_center.MIN(demand.base_price)', 0.10342137207221959),\n",
       " ('fullfilment_center.MAX(demand.discount)', -0.0829722634643868),\n",
       " ('fullfilment_center.MAX(demand.base_price)', -0.07918853477578215),\n",
       " ('fullfilment_center.MAX(demand.checkout_price)', -0.0789985884046237),\n",
       " ('fullfilment_center.MIN(demand.checkout_price)', 0.06689492096119254),\n",
       " ('fullfilment_center.MEAN(demand.base_price)', 0.054188529681149705),\n",
       " ('fullfilment_center.MEAN(demand.checkout_price)', 0.052006631334126086),\n",
       " ('fullfilment_center.MEAN(demand.week)', 0.04765822945040149),\n",
       " ('fullfilment_center.MIN(demand.discount)', 0.0286893451831485),\n",
       " ('meal_id', 0.010574900596661123),\n",
       " ('meal_info.MIN(demand.quarter)', nan),\n",
       " ('meal_info.MIN(demand.month)', nan),\n",
       " ('meal_info.MAX(demand.base_price)', -0.268315366166357),\n",
       " ('meal_info.MAX(demand.discount)', -0.25946298197539136),\n",
       " ('meal_info.MAX(demand.checkout_price)', -0.25750379547358576),\n",
       " ('meal_info.SUM(demand.week)', 0.25240830717989393),\n",
       " ('meal_info.SUM(demand.month)', 0.2508682003973316),\n",
       " ('meal_info.SUM(demand.quarter)', 0.24948576077860204),\n",
       " ('meal_info.SUM(demand.year)', 0.24858486985839995),\n",
       " ('meal_info.COUNT(demand)', 0.24194855519601333),\n",
       " ('meal_info.MIN(demand.base_price)', -0.21290264215850846),\n",
       " ('meal_info.MAX(demand.year)', nan),\n",
       " ('meal_info.MAX(demand.quarter)', nan),\n",
       " ('meal_info.MAX(demand.month)', nan),\n",
       " ('meal_info.MEAN(demand.base_price)', -0.2307404424033613),\n",
       " ('meal_info.MEAN(demand.checkout_price)', -0.23032979181661073),\n",
       " ('meal_info.MEAN(demand.discount)', -0.16485651976955154),\n",
       " ('meal_info.MAX(demand.emailer_for_promotion)', 0.15477391235128063),\n",
       " ('meal_info.MIN(demand.checkout_price)', -0.14711466549845065),\n",
       " ('meal_info.SUM(demand.homepage_featured)', 0.13996022919129744),\n",
       " ('meal_info.MIN(demand.discount)', 0.13008537918911578),\n",
       " ('meal_info.SUM(demand.base_price)', -0.12133286889001776),\n",
       " ('meal_info.SUM(demand.discount)', -0.12006518167316906),\n",
       " ('meal_info.SUM(demand.checkout_price)', -0.11866677682694579),\n",
       " ('meal_info.MEAN(demand.homepage_featured)', 0.10042996550635595),\n",
       " ('fullfilment_center.MEAN(demand.homepage_featured)', 0.09198203009790734),\n",
       " ('meal_info.SUM(demand.emailer_for_promotion)', 0.06973535219757132),\n",
       " ('meal_info.MIN(demand.year)', -0.06751455090309533),\n",
       " ('fullfilment_center.MEAN(demand.month)', 0.04998570508254434),\n",
       " ('fullfilment_center.MEAN(demand.quarter)', 0.04974257466135081),\n",
       " ('meal_info.MEAN(demand.month)', 0.047880901693476474),\n",
       " ('meal_info.MEAN(demand.year)', -0.04718650919569052),\n",
       " ('fullfilment_center.MODE(demand.meal_id)', -0.04682737797294677),\n",
       " ('fullfilment_center.MEAN(demand.year)', 0.0464824110604237),\n",
       " ('meal_info.MEAN(demand.quarter)', 0.044444779106546525),\n",
       " ('meal_info.MEAN(demand.emailer_for_promotion)', 0.041997590967012215),\n",
       " ('meal_info.MIN(demand.week)', -0.038821748902047384),\n",
       " ('meal_info.MEAN(demand.week)', -0.03656871734000227),\n",
       " ('fullfilment_center.MEAN(demand.discount)', -0.019318789154355274),\n",
       " ('meal_info.MODE(demand.center_id)', -0.0020289576181058313)]"
      ]
     },
     "execution_count": 159,
     "metadata": {},
     "output_type": "execute_result"
    }
   ],
   "source": [
    "correlations"
   ]
  },
  {
   "cell_type": "code",
   "execution_count": 160,
   "metadata": {},
   "outputs": [],
   "source": [
    "train.to_csv('../data/3.fe_with_week_train2.csv', index=False)\n",
    "test.to_csv('../data/3.fe_with_week_test2.csv', index=False)"
   ]
  },
  {
   "cell_type": "code",
   "execution_count": null,
   "metadata": {},
   "outputs": [],
   "source": []
  }
 ],
 "metadata": {
  "kernelspec": {
   "display_name": "py_3_6_5_keras",
   "language": "python",
   "name": "py_3_6_5_keras"
  },
  "language_info": {
   "codemirror_mode": {
    "name": "ipython",
    "version": 3
   },
   "file_extension": ".py",
   "mimetype": "text/x-python",
   "name": "python",
   "nbconvert_exporter": "python",
   "pygments_lexer": "ipython3",
   "version": "3.6.5"
  },
  "toc": {
   "base_numbering": 1,
   "nav_menu": {},
   "number_sections": true,
   "sideBar": true,
   "skip_h1_title": false,
   "title_cell": "Table of Contents",
   "title_sidebar": "Contents",
   "toc_cell": false,
   "toc_position": {},
   "toc_section_display": true,
   "toc_window_display": true
  },
  "varInspector": {
   "cols": {
    "lenName": 16,
    "lenType": 16,
    "lenVar": 40
   },
   "kernels_config": {
    "python": {
     "delete_cmd_postfix": "",
     "delete_cmd_prefix": "del ",
     "library": "var_list.py",
     "varRefreshCmd": "print(var_dic_list())"
    },
    "r": {
     "delete_cmd_postfix": ") ",
     "delete_cmd_prefix": "rm(",
     "library": "var_list.r",
     "varRefreshCmd": "cat(var_dic_list()) "
    }
   },
   "types_to_exclude": [
    "module",
    "function",
    "builtin_function_or_method",
    "instance",
    "_Feature"
   ],
   "window_display": false
  }
 },
 "nbformat": 4,
 "nbformat_minor": 2
}
